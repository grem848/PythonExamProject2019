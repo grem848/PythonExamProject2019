{
 "cells": [
  {
   "cell_type": "code",
   "execution_count": 1,
   "metadata": {},
   "outputs": [
    {
     "data": {
      "text/html": [
       "<div>\n",
       "<style scoped>\n",
       "    .dataframe tbody tr th:only-of-type {\n",
       "        vertical-align: middle;\n",
       "    }\n",
       "\n",
       "    .dataframe tbody tr th {\n",
       "        vertical-align: top;\n",
       "    }\n",
       "\n",
       "    .dataframe thead th {\n",
       "        text-align: right;\n",
       "    }\n",
       "</style>\n",
       "<table border=\"1\" class=\"dataframe\">\n",
       "  <thead>\n",
       "    <tr style=\"text-align: right;\">\n",
       "      <th></th>\n",
       "      <th>obama</th>\n",
       "      <th>trump</th>\n",
       "    </tr>\n",
       "  </thead>\n",
       "  <tbody>\n",
       "    <tr>\n",
       "      <th>abject</th>\n",
       "      <td>0</td>\n",
       "      <td>1</td>\n",
       "    </tr>\n",
       "    <tr>\n",
       "      <th>able</th>\n",
       "      <td>1</td>\n",
       "      <td>3</td>\n",
       "    </tr>\n",
       "    <tr>\n",
       "      <th>abolish</th>\n",
       "      <td>0</td>\n",
       "      <td>1</td>\n",
       "    </tr>\n",
       "    <tr>\n",
       "      <th>abortion</th>\n",
       "      <td>0</td>\n",
       "      <td>1</td>\n",
       "    </tr>\n",
       "    <tr>\n",
       "      <th>abroad</th>\n",
       "      <td>1</td>\n",
       "      <td>1</td>\n",
       "    </tr>\n",
       "  </tbody>\n",
       "</table>\n",
       "</div>"
      ],
      "text/plain": [
       "          obama  trump\n",
       "abject        0      1\n",
       "able          1      3\n",
       "abolish       0      1\n",
       "abortion      0      1\n",
       "abroad        1      1"
      ]
     },
     "execution_count": 1,
     "metadata": {},
     "output_type": "execute_result"
    }
   ],
   "source": [
    "# Read in the document-term matrix\n",
    "import pandas as pd\n",
    "\n",
    "data = pd.read_pickle('dtm.pkl')\n",
    "data = data.transpose()\n",
    "data.head()"
   ]
  },
  {
   "cell_type": "code",
   "execution_count": 2,
   "metadata": {
    "scrolled": true
   },
   "outputs": [
    {
     "data": {
      "text/plain": [
       "{'obama': [('thats', 35),\n",
       "  ('people', 27),\n",
       "  ('america', 27),\n",
       "  ('just', 25),\n",
       "  ('world', 24),\n",
       "  ('american', 22),\n",
       "  ('work', 22),\n",
       "  ('new', 19),\n",
       "  ('want', 19),\n",
       "  ('make', 19),\n",
       "  ('years', 18),\n",
       "  ('change', 18),\n",
       "  ('year', 17),\n",
       "  ('economy', 16),\n",
       "  ('weve', 15),\n",
       "  ('americans', 15),\n",
       "  ('need', 15),\n",
       "  ('better', 15),\n",
       "  ('dont', 14),\n",
       "  ('way', 13),\n",
       "  ('right', 13),\n",
       "  ('like', 13),\n",
       "  ('future', 12),\n",
       "  ('country', 12),\n",
       "  ('job', 11),\n",
       "  ('security', 10),\n",
       "  ('going', 10),\n",
       "  ('im', 10),\n",
       "  ('politics', 9),\n",
       "  ('time', 9)],\n",
       " 'trump': [('american', 33),\n",
       "  ('new', 23),\n",
       "  ('years', 21),\n",
       "  ('states', 21),\n",
       "  ('united', 21),\n",
       "  ('tonight', 19),\n",
       "  ('americans', 17),\n",
       "  ('country', 17),\n",
       "  ('america', 15),\n",
       "  ('congress', 14),\n",
       "  ('border', 13),\n",
       "  ('decades', 12),\n",
       "  ('women', 12),\n",
       "  ('time', 11),\n",
       "  ('come', 11),\n",
       "  ('just', 11),\n",
       "  ('year', 11),\n",
       "  ('americas', 10),\n",
       "  ('illegal', 10),\n",
       "  ('jobs', 10),\n",
       "  ('work', 10),\n",
       "  ('nation', 10),\n",
       "  ('administration', 9),\n",
       "  ('people', 9),\n",
       "  ('world', 9),\n",
       "  ('did', 8),\n",
       "  ('ago', 8),\n",
       "  ('make', 8),\n",
       "  ('know', 7),\n",
       "  ('trade', 7)]}"
      ]
     },
     "execution_count": 2,
     "metadata": {},
     "output_type": "execute_result"
    }
   ],
   "source": [
    "# Find the top 30 words said by each comedian\n",
    "top_dict = {}\n",
    "for c in data.columns:\n",
    "    top = data[c].sort_values(ascending=False).head(30)\n",
    "    top_dict[c]= list(zip(top.index, top.values))\n",
    "\n",
    "top_dict"
   ]
  },
  {
   "cell_type": "code",
   "execution_count": 3,
   "metadata": {},
   "outputs": [
    {
     "name": "stdout",
     "output_type": "stream",
     "text": [
      "obama\n",
      "thats, people, america, just, world, american, work, new, want, make, years, change, year, economy\n",
      "---\n",
      "trump\n",
      "american, new, years, states, united, tonight, americans, country, america, congress, border, decades, women, time\n",
      "---\n"
     ]
    }
   ],
   "source": [
    "# Print the top 15 words said by each comedian\n",
    "for president, top_words in top_dict.items():\n",
    "    print(president)\n",
    "    print(', '.join([word for word, count in top_words[0:14]]))\n",
    "    print('---')"
   ]
  },
  {
   "cell_type": "code",
   "execution_count": 4,
   "metadata": {
    "scrolled": true
   },
   "outputs": [
    {
     "data": {
      "text/plain": [
       "['thats',\n",
       " 'people',\n",
       " 'america',\n",
       " 'just',\n",
       " 'world',\n",
       " 'american',\n",
       " 'work',\n",
       " 'new',\n",
       " 'want',\n",
       " 'make',\n",
       " 'years',\n",
       " 'change',\n",
       " 'year',\n",
       " 'economy',\n",
       " 'weve',\n",
       " 'americans',\n",
       " 'need',\n",
       " 'better',\n",
       " 'dont',\n",
       " 'way',\n",
       " 'right',\n",
       " 'like',\n",
       " 'future',\n",
       " 'country',\n",
       " 'job',\n",
       " 'security',\n",
       " 'going',\n",
       " 'im',\n",
       " 'politics',\n",
       " 'time',\n",
       " 'american',\n",
       " 'new',\n",
       " 'years',\n",
       " 'states',\n",
       " 'united',\n",
       " 'tonight',\n",
       " 'americans',\n",
       " 'country',\n",
       " 'america',\n",
       " 'congress',\n",
       " 'border',\n",
       " 'decades',\n",
       " 'women',\n",
       " 'time',\n",
       " 'come',\n",
       " 'just',\n",
       " 'year',\n",
       " 'americas',\n",
       " 'illegal',\n",
       " 'jobs',\n",
       " 'work',\n",
       " 'nation',\n",
       " 'administration',\n",
       " 'people',\n",
       " 'world',\n",
       " 'did',\n",
       " 'ago',\n",
       " 'make',\n",
       " 'know',\n",
       " 'trade']"
      ]
     },
     "execution_count": 4,
     "metadata": {},
     "output_type": "execute_result"
    }
   ],
   "source": [
    "# Look at the most common top words --> add them to the stop word list\n",
    "from collections import Counter\n",
    "\n",
    "# Let's first pull out the top 30 words for each president\n",
    "words = []\n",
    "for president in data.columns:\n",
    "    top = [word for (word, count) in top_dict[president]]\n",
    "    for t in top:\n",
    "        words.append(t)\n",
    "        \n",
    "words"
   ]
  },
  {
   "cell_type": "code",
   "execution_count": 5,
   "metadata": {
    "scrolled": true
   },
   "outputs": [
    {
     "data": {
      "text/plain": [
       "[('people', 2),\n",
       " ('america', 2),\n",
       " ('just', 2),\n",
       " ('world', 2),\n",
       " ('american', 2),\n",
       " ('work', 2),\n",
       " ('new', 2),\n",
       " ('make', 2),\n",
       " ('years', 2),\n",
       " ('year', 2),\n",
       " ('americans', 2),\n",
       " ('country', 2),\n",
       " ('time', 2),\n",
       " ('thats', 1),\n",
       " ('want', 1),\n",
       " ('change', 1),\n",
       " ('economy', 1),\n",
       " ('weve', 1),\n",
       " ('need', 1),\n",
       " ('better', 1),\n",
       " ('dont', 1),\n",
       " ('way', 1),\n",
       " ('right', 1),\n",
       " ('like', 1),\n",
       " ('future', 1),\n",
       " ('job', 1),\n",
       " ('security', 1),\n",
       " ('going', 1),\n",
       " ('im', 1),\n",
       " ('politics', 1),\n",
       " ('states', 1),\n",
       " ('united', 1),\n",
       " ('tonight', 1),\n",
       " ('congress', 1),\n",
       " ('border', 1),\n",
       " ('decades', 1),\n",
       " ('women', 1),\n",
       " ('come', 1),\n",
       " ('americas', 1),\n",
       " ('illegal', 1),\n",
       " ('jobs', 1),\n",
       " ('nation', 1),\n",
       " ('administration', 1),\n",
       " ('did', 1),\n",
       " ('ago', 1),\n",
       " ('know', 1),\n",
       " ('trade', 1)]"
      ]
     },
     "execution_count": 5,
     "metadata": {},
     "output_type": "execute_result"
    }
   ],
   "source": [
    "# Let's aggregate this list and identify the most common words along with how many routines they occur in\n",
    "Counter(words).most_common()"
   ]
  },
  {
   "cell_type": "code",
   "execution_count": 6,
   "metadata": {},
   "outputs": [
    {
     "data": {
      "text/plain": [
       "[]"
      ]
     },
     "execution_count": 6,
     "metadata": {},
     "output_type": "execute_result"
    }
   ],
   "source": [
    "# If more than half of the comedians have it as a top word, exclude it from the list\n",
    "add_stop_words = [word for word, count in Counter(words).most_common() if count > 6]\n",
    "add_stop_words"
   ]
  },
  {
   "cell_type": "code",
   "execution_count": 7,
   "metadata": {},
   "outputs": [],
   "source": [
    "# Let's update our document-term matrix with the new list of stop words\n",
    "from sklearn.feature_extraction import text \n",
    "from sklearn.feature_extraction.text import CountVectorizer\n",
    "\n",
    "# Read in cleaned data\n",
    "data_clean = pd.read_pickle('data_clean.pkl')\n",
    "\n",
    "# Add new stop words\n",
    "stop_words = text.ENGLISH_STOP_WORDS.union(add_stop_words)\n",
    "\n",
    "# Recreate document-term matrix\n",
    "cv = CountVectorizer(stop_words=stop_words)\n",
    "data_cv = cv.fit_transform(data_clean.transcript)\n",
    "data_stop = pd.DataFrame(data_cv.toarray(), columns=cv.get_feature_names())\n",
    "data_stop.index = data_clean.index\n",
    "\n",
    "# Pickle it for later use\n",
    "import pickle\n",
    "pickle.dump(cv, open(\"cv_stop.pkl\", \"wb\"))\n",
    "data_stop.to_pickle(\"dtm_stop.pkl\")"
   ]
  },
  {
   "cell_type": "code",
   "execution_count": 8,
   "metadata": {},
   "outputs": [],
   "source": [
    "# Let's make some word clouds!\n",
    "# Terminal / Anaconda Prompt: conda install -c conda-forge wordcloud\n",
    "from wordcloud import WordCloud\n",
    "\n",
    "wc = WordCloud(stopwords=stop_words, background_color=\"white\", colormap=\"Dark2\",\n",
    "               max_font_size=150, random_state=42)"
   ]
  },
  {
   "cell_type": "code",
   "execution_count": 9,
   "metadata": {
    "scrolled": true
   },
   "outputs": [
    {
     "data": {
      "image/png": "[encoded data removed]",
      "text/plain": [
       "<Figure size 1152x432 with 2 Axes>"
      ]
     },
     "metadata": {
      "needs_background": "light"
     },
     "output_type": "display_data"
    }
   ],
   "source": [
    "# Reset the output dimensions\n",
    "import matplotlib.pyplot as plt\n",
    "\n",
    "plt.rcParams['figure.figsize'] = [16, 6]\n",
    "\n",
    "full_names = ['Barack Hussein Obama', 'Donald John Trump']\n",
    "\n",
    "# Create subplots for each comedian\n",
    "for index, comedian in enumerate(data.columns):\n",
    "    wc.generate(data_clean.transcript[comedian])\n",
    "    \n",
    "    plt.subplot(3, 4, index+1)\n",
    "    plt.imshow(wc, interpolation=\"bilinear\")\n",
    "    plt.axis(\"off\")\n",
    "    plt.title(full_names[index])\n",
    "    \n",
    "plt.show()"
   ]
  },
  {
   "cell_type": "code",
   "execution_count": 10,
   "metadata": {},
   "outputs": [
    {
     "data": {
      "text/html": [
       "<div>\n",
       "<style scoped>\n",
       "    .dataframe tbody tr th:only-of-type {\n",
       "        vertical-align: middle;\n",
       "    }\n",
       "\n",
       "    .dataframe tbody tr th {\n",
       "        vertical-align: top;\n",
       "    }\n",
       "\n",
       "    .dataframe thead th {\n",
       "        text-align: right;\n",
       "    }\n",
       "</style>\n",
       "<table border=\"1\" class=\"dataframe\">\n",
       "  <thead>\n",
       "    <tr style=\"text-align: right;\">\n",
       "      <th></th>\n",
       "      <th>president</th>\n",
       "      <th>unique_words</th>\n",
       "    </tr>\n",
       "  </thead>\n",
       "  <tbody>\n",
       "    <tr>\n",
       "      <th>0</th>\n",
       "      <td>Barack Hussein Obama</td>\n",
       "      <td>1378</td>\n",
       "    </tr>\n",
       "    <tr>\n",
       "      <th>1</th>\n",
       "      <td>Donald John Trump</td>\n",
       "      <td>1393</td>\n",
       "    </tr>\n",
       "  </tbody>\n",
       "</table>\n",
       "</div>"
      ],
      "text/plain": [
       "              president  unique_words\n",
       "0  Barack Hussein Obama          1378\n",
       "1     Donald John Trump          1393"
      ]
     },
     "execution_count": 10,
     "metadata": {},
     "output_type": "execute_result"
    }
   ],
   "source": [
    "# Find the number of unique words that each president uses\n",
    "\n",
    "# Identify the non-zero items in the document-term matrix, meaning that the word occurs at least once\n",
    "unique_list = []\n",
    "for president in data.columns:\n",
    "    uniques = data[president].nonzero()[0].size\n",
    "    unique_list.append(uniques)\n",
    "\n",
    "# Create a new dataframe that contains this unique word count\n",
    "data_words = pd.DataFrame(list(zip(full_names, unique_list)), columns=['president', 'unique_words'])\n",
    "data_unique_sort = data_words.sort_values(by='unique_words')\n",
    "data_unique_sort"
   ]
  },
  {
   "cell_type": "code",
   "execution_count": 12,
   "metadata": {},
   "outputs": [
    {
     "data": {
      "text/html": [
       "<div>\n",
       "<style scoped>\n",
       "    .dataframe tbody tr th:only-of-type {\n",
       "        vertical-align: middle;\n",
       "    }\n",
       "\n",
       "    .dataframe tbody tr th {\n",
       "        vertical-align: top;\n",
       "    }\n",
       "\n",
       "    .dataframe thead th {\n",
       "        text-align: right;\n",
       "    }\n",
       "</style>\n",
       "<table border=\"1\" class=\"dataframe\">\n",
       "  <thead>\n",
       "    <tr style=\"text-align: right;\">\n",
       "      <th></th>\n",
       "      <th>president</th>\n",
       "      <th>unique_words</th>\n",
       "      <th>total_words</th>\n",
       "      <th>run_times</th>\n",
       "      <th>words_per_minute</th>\n",
       "    </tr>\n",
       "  </thead>\n",
       "  <tbody>\n",
       "    <tr>\n",
       "      <th>0</th>\n",
       "      <td>Barack Hussein Obama</td>\n",
       "      <td>1378</td>\n",
       "      <td>2535</td>\n",
       "      <td>61</td>\n",
       "      <td>41.557377</td>\n",
       "    </tr>\n",
       "    <tr>\n",
       "      <th>1</th>\n",
       "      <td>Donald John Trump</td>\n",
       "      <td>1393</td>\n",
       "      <td>2535</td>\n",
       "      <td>52</td>\n",
       "      <td>48.750000</td>\n",
       "    </tr>\n",
       "  </tbody>\n",
       "</table>\n",
       "</div>"
      ],
      "text/plain": [
       "              president  unique_words  total_words  run_times  \\\n",
       "0  Barack Hussein Obama          1378         2535         61   \n",
       "1     Donald John Trump          1393         2535         52   \n",
       "\n",
       "   words_per_minute  \n",
       "0         41.557377  \n",
       "1         48.750000  "
      ]
     },
     "execution_count": 12,
     "metadata": {},
     "output_type": "execute_result"
    }
   ],
   "source": [
    "# Calculate the words per minute of each president\n",
    "\n",
    "# Find the total number of words that a president uses\n",
    "total_list = []\n",
    "for president in data.columns:\n",
    "    totals = sum(data[comedian])\n",
    "    total_list.append(totals)\n",
    "    \n",
    "# Comedy special run times from IMDB, in minutes\n",
    "run_times = [61, 52]\n",
    "\n",
    "# Let's add some columns to our dataframe\n",
    "data_words['total_words'] = total_list\n",
    "data_words['run_times'] = run_times\n",
    "data_words['words_per_minute'] = data_words['total_words'] / data_words['run_times']\n",
    "\n",
    "# Sort the dataframe by words per minute to see who talks the slowest and fastest\n",
    "data_wpm_sort = data_words.sort_values(by='words_per_minute')\n",
    "data_wpm_sort"
   ]
  }
 ],
 "metadata": {
  "kernelspec": {
   "display_name": "Python 3",
   "language": "python",
   "name": "python3"
  },
  "language_info": {
   "codemirror_mode": {
    "name": "ipython",
    "version": 3
   },
   "file_extension": ".py",
   "mimetype": "text/x-python",
   "name": "python",
   "nbconvert_exporter": "python",
   "pygments_lexer": "ipython3",
   "version": "3.7.1"
  }
 },
 "nbformat": 4,
 "nbformat_minor": 2
}
