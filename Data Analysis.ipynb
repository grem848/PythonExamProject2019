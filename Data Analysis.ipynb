{
 "cells": [
  {
   "cell_type": "code",
   "execution_count": 1,
   "metadata": {},
   "outputs": [
    {
     "data": {
      "text/html": [
       "<div>\n",
       "<style scoped>\n",
       "    .dataframe tbody tr th:only-of-type {\n",
       "        vertical-align: middle;\n",
       "    }\n",
       "\n",
       "    .dataframe tbody tr th {\n",
       "        vertical-align: top;\n",
       "    }\n",
       "\n",
       "    .dataframe thead th {\n",
       "        text-align: right;\n",
       "    }\n",
       "</style>\n",
       "<table border=\"1\" class=\"dataframe\">\n",
       "  <thead>\n",
       "    <tr style=\"text-align: right;\">\n",
       "      <th></th>\n",
       "      <th>obama</th>\n",
       "      <th>trump</th>\n",
       "    </tr>\n",
       "  </thead>\n",
       "  <tbody>\n",
       "    <tr>\n",
       "      <th>abject</th>\n",
       "      <td>0</td>\n",
       "      <td>1</td>\n",
       "    </tr>\n",
       "    <tr>\n",
       "      <th>able</th>\n",
       "      <td>1</td>\n",
       "      <td>3</td>\n",
       "    </tr>\n",
       "    <tr>\n",
       "      <th>abolish</th>\n",
       "      <td>0</td>\n",
       "      <td>1</td>\n",
       "    </tr>\n",
       "    <tr>\n",
       "      <th>abortion</th>\n",
       "      <td>0</td>\n",
       "      <td>1</td>\n",
       "    </tr>\n",
       "    <tr>\n",
       "      <th>abroad</th>\n",
       "      <td>1</td>\n",
       "      <td>1</td>\n",
       "    </tr>\n",
       "  </tbody>\n",
       "</table>\n",
       "</div>"
      ],
      "text/plain": [
       "          obama  trump\n",
       "abject        0      1\n",
       "able          1      3\n",
       "abolish       0      1\n",
       "abortion      0      1\n",
       "abroad        1      1"
      ]
     },
     "execution_count": 1,
     "metadata": {},
     "output_type": "execute_result"
    }
   ],
   "source": [
    "# Read in the document-term matrix\n",
    "import pandas as pd\n",
    "\n",
    "data = pd.read_pickle('dtm.pkl')\n",
    "data = data.transpose()\n",
    "data.head()"
   ]
  },
  {
   "cell_type": "code",
   "execution_count": 2,
   "metadata": {},
   "outputs": [
    {
     "data": {
      "text/plain": [
       "{'obama': [('applause', 84),\n",
       "  ('thats', 35),\n",
       "  ('people', 27),\n",
       "  ('america', 27),\n",
       "  ('just', 25),\n",
       "  ('world', 24),\n",
       "  ('american', 22),\n",
       "  ('work', 22),\n",
       "  ('want', 19),\n",
       "  ('new', 19),\n",
       "  ('make', 19),\n",
       "  ('change', 18),\n",
       "  ('years', 17),\n",
       "  ('year', 17),\n",
       "  ('economy', 16),\n",
       "  ('weve', 15),\n",
       "  ('need', 15),\n",
       "  ('better', 15),\n",
       "  ('americans', 15),\n",
       "  ('dont', 14),\n",
       "  ('like', 13),\n",
       "  ('right', 13),\n",
       "  ('way', 13),\n",
       "  ('future', 12),\n",
       "  ('country', 12),\n",
       "  ('job', 11),\n",
       "  ('security', 10),\n",
       "  ('going', 10),\n",
       "  ('im', 10),\n",
       "  ('know', 9)],\n",
       " 'trump': [('american', 33),\n",
       "  ('new', 23),\n",
       "  ('years', 21),\n",
       "  ('united', 21),\n",
       "  ('states', 21),\n",
       "  ('tonight', 19),\n",
       "  ('country', 17),\n",
       "  ('americans', 17),\n",
       "  ('america', 15),\n",
       "  ('congress', 14),\n",
       "  ('border', 13),\n",
       "  ('decades', 12),\n",
       "  ('women', 12),\n",
       "  ('come', 11),\n",
       "  ('just', 11),\n",
       "  ('time', 11),\n",
       "  ('year', 11),\n",
       "  ('nation', 10),\n",
       "  ('illegal', 10),\n",
       "  ('jobs', 10),\n",
       "  ('americas', 10),\n",
       "  ('work', 10),\n",
       "  ('administration', 9),\n",
       "  ('people', 9),\n",
       "  ('world', 9),\n",
       "  ('make', 8),\n",
       "  ('ago', 8),\n",
       "  ('did', 8),\n",
       "  ('trade', 7),\n",
       "  ('great', 7)]}"
      ]
     },
     "execution_count": 2,
     "metadata": {},
     "output_type": "execute_result"
    }
   ],
   "source": [
    "# Find the top 30 words said by each comedian\n",
    "top_dict = {}\n",
    "for c in data.columns:\n",
    "    top = data[c].sort_values(ascending=False).head(30)\n",
    "    top_dict[c]= list(zip(top.index, top.values))\n",
    "\n",
    "top_dict"
   ]
  }
 ],
 "metadata": {
  "kernelspec": {
   "display_name": "Python 3",
   "language": "python",
   "name": "python3"
  },
  "language_info": {
   "codemirror_mode": {
    "name": "ipython",
    "version": 3
   },
   "file_extension": ".py",
   "mimetype": "text/x-python",
   "name": "python",
   "nbconvert_exporter": "python",
   "pygments_lexer": "ipython3",
   "version": "3.7.1"
  }
 },
 "nbformat": 4,
 "nbformat_minor": 2
}
