{
 "cells": [
  {
   "cell_type": "markdown",
   "metadata": {},
   "source": [
    "## Data Cleaning"
   ]
  },
  {
   "cell_type": "code",
   "execution_count": 9,
   "metadata": {},
   "outputs": [],
   "source": [
    "# Web scraping, pickle imports\n",
    "import requests\n",
    "from bs4 import BeautifulSoup\n",
    "import pickle\n",
    "\n",
    "# Scrapes transcript data from scrapsfromtheloft.com\n",
    "def url_to_transcript(url):\n",
    "    '''Returns transcript data specifically from scrapsfromtheloft.com.'''\n",
    "    page = requests.get(url).text\n",
    "    soup = BeautifulSoup(page, \"lxml\")\n",
    "    text = [p.text for p in soup.find(class_=\"transcript-inner\").find_all('p')]\n",
    "    print(url)\n",
    "    return text\n",
    "\n",
    "# URLs of transcripts in scope\n",
    "urls = ['https://millercenter.org/the-presidency/presidential-speeches/february-5-2019-state-union-address',\n",
    "       'https://millercenter.org/the-presidency/presidential-speeches/january-12-2016-2016-state-union-address']\n",
    "\n",
    "# Comedian names\n",
    "presidents = ['trump', 'obama']"
   ]
  },
  {
   "cell_type": "code",
   "execution_count": 10,
   "metadata": {},
   "outputs": [
    {
     "name": "stdout",
     "output_type": "stream",
     "text": [
      "https://millercenter.org/the-presidency/presidential-speeches/february-5-2019-state-union-address\n",
      "https://millercenter.org/the-presidency/presidential-speeches/january-12-2016-2016-state-union-address\n"
     ]
    }
   ],
   "source": [
    "# # Actually request transcripts (takes a few minutes to run)\n",
    "transcripts = [url_to_transcript(u) for u in urls]\n"
   ]
  },
  {
   "cell_type": "code",
   "execution_count": 25,
   "metadata": {},
   "outputs": [
    {
     "name": "stderr",
     "output_type": "stream",
     "text": [
      "A subdirectory or file transcripts already exists.\n"
     ]
    }
   ],
   "source": [
    "# # Pickle files for later use\n",
    "\n",
    "#  Make a new directory to hold the text files\n",
    "!mkdir transcripts\n",
    "\n",
    "for i, p in enumerate(presidents):\n",
    "    with open(\"transcripts/\" + p + \".txt\", \"wb\") as file:\n",
    "        pickle.dump(transcripts[i], file)"
   ]
  },
  {
   "cell_type": "code",
   "execution_count": 27,
   "metadata": {},
   "outputs": [],
   "source": [
    "# Load pickled files\n",
    "data = {}\n",
    "for i, c in enumerate(presidents):\n",
    "    with open(\"transcripts/\" + c + \".txt\", \"rb\") as file:\n",
    "        data[c] = pickle.load(file)"
   ]
  },
  {
   "cell_type": "code",
   "execution_count": 28,
   "metadata": {},
   "outputs": [
    {
     "data": {
      "text/plain": [
       "dict_keys(['trump', 'obama'])"
      ]
     },
     "execution_count": 28,
     "metadata": {},
     "output_type": "execute_result"
    }
   ],
   "source": [
    "# Double check to make sure data has been loaded properly\n",
    "data.keys()"
   ]
  },
  {
   "cell_type": "code",
   "execution_count": 33,
   "metadata": {},
   "outputs": [
    {
     "data": {
      "text/plain": [
       "['Mr. Speaker, Mr. Vice President, Members of Congress, my fellow Americans:',\n",
       " \"Tonight marks the eighth year that I’ve come here to report on the State of the Union.\\xa0And for this final one, I’m going to try to make it a little shorter. (Applause.) I know some of you are antsy to get back to Iowa. (Laughter.) I've been there. I'll be shaking hands afterwards if you want some tips. (Laughter.)\",\n",
       " 'And I understand that because it’s an election season, expectations for what we will achieve this year are low.\\xa0But, Mr. Speaker, I appreciate the constructive approach that you and the other leaderstook at the end of last year to\\xa0pass a budget\\xa0and\\xa0make\\xa0tax cuts permanent\\xa0for working families. So I hope we can work together this year on some bipartisan priorities like\\xa0criminal justice reform\\xa0-- (applause) -- and helping people who are battling prescription drug abuse and heroin abuse. (Applause.) So, who knows, we might surprise the cynics again.',\n",
       " \"But tonight, I want to go easy on the traditional list of proposals for the year ahead. Don’t worry, I’ve got plenty, from\\xa0helping students learn to write computer code\\xa0to\\xa0personalizing medical treatments for patients. And I will keep pushing for progress on the work that I believe still needs to be done.\\xa0Fixing a broken immigration system. (Applause.)\\xa0Protecting our kids from gun violence. (Applause.)Equal pay for equal work. (Applause.)\\xa0Paid leave. (Applause.)Raising the minimum wage. (Applause.) All these things still matter to hardworking families. They’re still the right thing to do. And I won't let up until they get done.\"]"
      ]
     },
     "execution_count": 33,
     "metadata": {},
     "output_type": "execute_result"
    }
   ],
   "source": [
    "# More checks\n",
    "data['obama'][:4]"
   ]
  },
  {
   "cell_type": "code",
   "execution_count": 36,
   "metadata": {},
   "outputs": [
    {
     "data": {
      "text/plain": [
       "'trump'"
      ]
     },
     "execution_count": 36,
     "metadata": {},
     "output_type": "execute_result"
    }
   ],
   "source": [
    "# Let's take a look at our data again\n",
    "next(iter(data.keys()))"
   ]
  },
  {
   "cell_type": "code",
   "execution_count": 37,
   "metadata": {},
   "outputs": [
    {
     "data": {
      "text/plain": [
       "['Madam Speaker, Mr. Vice President, Members of Congress, the\\xa0First Lady of the United States, and my fellow Americans:',\n",
       " 'We meet tonight at a moment of unlimited potential.\\xa0As we begin a new Congress, I stand here ready to work with you to achieve historic breakthroughs for all Americans.',\n",
       " 'Millions of our fellow citizens are watching us now, gathered in this great chamber, hoping that we will govern not as two parties but as one Nation.',\n",
       " 'The agenda I will lay out this evening is not a Republican agenda or a Democrat agenda.\\xa0It is the agenda of the American people.',\n",
       " 'Many of us campaigned on the same core promises:\\xa0to defend American jobs and demand fair trade for American workers; to rebuild and revitalize our Nation’s infrastructure; to reduce the price of healthcare and prescription drugs; to create an immigration system that is safe, lawful, modern, and secure; and to pursue a foreign policy that puts America’s interests first.',\n",
       " 'There is a new opportunity in American politics, if only we have the courage to seize it.\\xa0Victory is not winning for our party.\\xa0Victory is winning for our country.',\n",
       " 'This year, America will recognize two important anniversaries that show us the majesty of America’s mission, and\\xa0the power of American pride.',\n",
       " 'In June, we mark 75 years since the start of what General Dwight D. Eisenhower called the Great Crusade—the Allied liberation of Europe in World War II.\\xa0On D-Day, June 6, 1944, 15,000 young American men jumped from the sky, and 60,000 more stormed in from the sea, to save our civilization from tyranny.\\xa0Here with us tonight are three of those heroes:\\xa0Private First Class Joseph Reilly, Staff Sergeant Irving Locker, and Sergeant Herman Zeitchik.\\xa0Gentlemen, we salute you.',\n",
       " 'In 2019, we also celebrate 50 years since brave young pilots flew a quarter of a million miles through space to plant the American flag on the face of the moon.\\xa0Half a century later, we are joined by one of the Apollo 11 astronauts who planted that flag:\\xa0Buzz Aldrin. This year, American astronauts will go back to space on American rockets.',\n",
       " 'In the 20th century, America saved freedom, transformed science, and redefined the middle class standard of living for the entire world to see.\\xa0Now, we must step boldly and bravely into the next chapter of this great American adventure, and we must create a new standard of living for the 21st century.\\xa0An amazing quality of life for all of our citizens is within our reach.',\n",
       " 'We can make our communities safer, our families stronger, our culture richer, our faith deeper, and our middle class bigger and more prosperous than ever before.',\n",
       " 'But we must reject the politics of revenge, resistance, and\\xa0retribution—and embrace the boundless potential of cooperation, compromise, and the common good.',\n",
       " 'Together, we can break decades of political stalemate.\\xa0We can bridge old divisions, heal old wounds, build new coalitions, forge new solutions, and unlock the extraordinary promise of America’s future.\\xa0The decision is ours to make.',\n",
       " 'We must choose between greatness or gridlock, results or resistance, vision or vengeance, incredible progress or pointless destruction.',\n",
       " 'Tonight, I ask you to choose greatness.',\n",
       " 'Over the last 2 years, my administration has moved with urgency and historic speed to confront problems neglected by leaders of both parties over many decades.',\n",
       " 'In just over 2 years since the election, we have launched an unprecedented economic boom—a boom that has rarely been seen before.\\xa0We have created 5.3 million new jobs and importantly added 600,000 new manufacturing jobs—something which almost everyone said was impossible to do, but the fact is, we are just getting started.',\n",
       " 'Wages are rising at the fastest pace in decades, and growing for blue collar workers, who I promised to fight for, faster than anyone else.\\xa0Nearly 5 million Americans have been lifted off food stamps.\\xa0The United States economy is growing almost twice as fast today as when I took office, and we are considered far and away the hottest economy anywhere in the world.\\xa0Unemployment has reached the lowest rate in half a century. African American, Hispanic American, and Asian American unemployment have all reached their lowest levels ever recorded. Unemployment for Americans with disabilities has also reached an all-time low.\\xa0More people are working now than at any time in our history–-157 million.',\n",
       " 'We passed a massive tax cut for working families and doubled the child tax credit.',\n",
       " 'We virtually ended the estate, or death, tax on small businesses, ranches, and family farms.',\n",
       " 'We eliminated the very unpopular Obamacare individual mandate penalty—and to give critically ill patients access to life-saving cures, we passed right to try.',\n",
       " 'My administration has cut more regulations in a short time than any other administration during its entire tenure.\\xa0Companies are coming back to our country in large numbers thanks to historic reductions in taxes and regulations.',\n",
       " 'We have unleashed a revolution in American energy—the United States is now the number one producer of oil and natural gas in the world.\\xa0And now, for the first time in 65 years, we are a net exporter of energy.',\n",
       " 'After 24 months of rapid progress, our economy is the envy of the world, our military is the most powerful on earth, and America is winning each and every day.\\xa0Members of Congress:\\xa0the State of our Union is strong.\\xa0Our country is vibrant and our economy is thriving like never before.',\n",
       " 'On Friday, it was announced that we added another 304,000 jobs last month alone—almost double what was expected.\\xa0An economic miracle is taking place in the United States—and the\\xa0only thing that can stop it are foolish wars, politics, or ridiculous partisan investigations.',\n",
       " 'If there is going to be peace and legislation, there cannot be war and investigation. It just doesn’t work that way!',\n",
       " 'We must be united at home to defeat our adversaries abroad.',\n",
       " 'This new era of cooperation can start with finally confirming the more than 300 highly qualified nominees who are still stuck in the Senate, some after years of waiting.\\xa0The Senate has failed to act on these nominations, which is unfair to the nominees and to our country.',\n",
       " 'Now is the time for bipartisan action.\\xa0Believe it or not, we have already proven that it is possible.',\n",
       " 'In the last Congress, both parties came together to pass unprecedented legislation to confront the opioid crisis, a sweeping new Farm Bill, historic VA reforms, and after four decades of rejection, we passed VA Accountability so we can finally terminate those who mistreat our wonderful veterans.',\n",
       " 'And just weeks ago, both parties united for groundbreaking criminal justice reform.\\xa0Last year, I heard through friends the story of Alice Johnson.\\xa0I was deeply moved.\\xa0In 1997, Alice was sentenced to life in prison as a first-time non-violent drug offender.\\xa0Over the next two decades, she became a prison minister, inspiring others to choose a better path.\\xa0She had a\\xa0big impact on that prison population—and far beyond.',\n",
       " 'Alice’s story underscores the disparities and unfairness that can exist in criminal sentencing—and the need to remedy this injustice.\\xa0She served almost 22 years and had expected to be in prison for the rest of her life.',\n",
       " 'In June, I commuted Alice’s sentence, and she is here with us tonight.\\xa0Alice, thank you for reminding us that we always have the power to shape our own destiny.',\n",
       " 'When I saw Alice’s beautiful family greet her at the prison gates, hugging and kissing and crying and laughing, I knew I did the right thing.',\n",
       " 'Inspired by stories like Alice’s, my administration worked closely with members of both parties to sign the First Step Act into law.\\xa0This legislation reformed sentencing laws that have wrongly and disproportionately harmed the African American community.\\xa0The First Step Act gives non-violent offenders the chance to re-enter society as productive, law-abiding citizens. Now, States across the country are following our lead. America is a Nation that believes in redemption.',\n",
       " 'We are also joined tonight by Matthew Charles from Tennessee.\\xa0In 1996, at age 30, Matthew was sentenced to 35 years for selling drugs and related offenses. Over the next two decades, he completed more than 30 Bible studies, became a law clerk, and mentored fellow inmates. Now, Matthew is the very first person to be released from prison under the First Step Act.\\xa0Matthew, on behalf of all Americans: welcome home.',\n",
       " 'As we have seen, when we are united, we can make astonishing strides for our country.\\xa0Now, Republicans and Democrats must join forces again to confront an urgent national crisis.',\n",
       " 'The Congress has 10 days left to pass a bill that will fund our government, protect our homeland, and secure our southern border.',\n",
       " 'Now is the time for the Congress to show the world that America is committed to ending illegal immigration and putting the ruthless coyotes, cartels, drug dealers, and human traffickers out of business.',\n",
       " 'As we speak, large, organized caravans are on the march to the United States.\\xa0We have just heard that Mexican cities, in order to remove the illegal immigrants from their communities, are getting trucks and buses to bring them up to our country in areas where there is little border protection.\\xa0I have ordered another 3,750 troops to our southern border to prepare for the tremendous onslaught.',\n",
       " 'This is a moral issue.\\xa0The lawless state of our southern border is a threat to the safety, security, and financial well‑being of all Americans.\\xa0We have a moral duty to create an\\xa0immigration system that protects the lives and jobs of our citizens.\\xa0This includes our obligation to the millions of immigrants living here today, who followed the rules and respected our laws. Legal immigrants enrich our Nation and strengthen our society in countless ways.\\xa0I want people to come into our country, but they have to come in legally.',\n",
       " 'Tonight, I am asking you to defend our very dangerous southern border out of love and devotion to our fellow citizens and to our country.',\n",
       " 'No issue better illustrates the divide between America’s working class and America’s political class than illegal immigration.\\xa0Wealthy politicians and donors push for open borders while living their lives behind walls and gates and guards.',\n",
       " 'Meanwhile, working class Americans are left to pay the price for mass illegal migration—reduced jobs, lower wages, overburdened schools and hospitals, increased crime, and a\\xa0depleted social safety net.',\n",
       " 'Tolerance for illegal immigration is not compassionate—it is cruel.\\xa0One in three women is sexually assaulted on the long journey north. Smugglers use migrant children as human pawns to exploit our laws and gain access to our country.',\n",
       " 'Human traffickers and sex traffickers take advantage of the wide open areas between our ports of entry to\\xa0smuggle thousands of young girls and women into the United\\xa0States and to sell them into prostitution and modern-day slavery.',\n",
       " 'Tens of thousands of innocent Americans are killed by lethal drugs that cross our border and flood into our cities—including meth, heroin, cocaine, and fentanyl.',\n",
       " 'The savage gang, MS-13, now operates in 20 different American states, and they almost all come through our southern border.\\xa0Just yesterday, an MS-13 gang member was taken into custody for a fatal shooting on a subway platform in New York City.\\xa0We are removing these gang members by the thousands, but until we secure our border they’re going to keep streaming back\\xa0in.',\n",
       " 'Year after year, countless Americans are murdered by criminal illegal aliens.',\n",
       " 'I’ve gotten to know many wonderful Angel Moms, Dads, and families—no one should ever have to suffer the horrible heartache they have endured.',\n",
       " 'Here tonight is Debra Bissell.\\xa0Just three weeks ago, Debra’s parents, Gerald and Sharon, were burglarized and shot to\\xa0death in their Reno, Nevada, home by an illegal alien. They\\xa0were in their eighties and are survived by four children, 11\\xa0grandchildren, and 20 great-grandchildren. Also here tonight are Gerald and Sharon’s granddaughter, Heather, and great‑granddaughter, Madison.',\n",
       " 'To Debra, Heather, Madison, please stand: few can understand your pain.\\xa0But I will never forget, and I will fight for the memory of Gerald and Sharon, that it should never happen again.',\n",
       " 'Not one more American life should be lost because our Nation failed to control its very dangerous border.',\n",
       " 'In the last 2 years, our brave ICE officers made 266,000 arrests of criminal aliens, including those charged or convicted of nearly 100,000 assaults, 30,000 sex crimes, and 4,000 killings.',\n",
       " 'We are joined tonight by one of those law enforcement heroes:\\xa0ICE Special Agent Elvin Hernandez.\\xa0When Elvin was a boy, he and his family legally immigrated to the United States from the Dominican Republic.\\xa0At the age of eight, Elvin told his dad he wanted to become a Special Agent.\\xa0Today, he leads investigations into the scourge of international sex trafficking.\\xa0Elvin says: \\xa0“If I can make sure these young girls get their justice, I’ve done my job.”\\xa0Thanks to his work and that of his colleagues, more than 300 women and girls have been rescued from horror, and more than 1,500 sadistic traffickers have been put behind bars in the last year.',\n",
       " 'Special Agent Hernandez, please stand:\\xa0We will always support the brave men and women of Law Enforcement—and I pledge to you tonight that we will never abolish our heroes from ICE.',\n",
       " 'My administration has sent to the Congress a commonsense proposal to end the crisis on our southern border.',\n",
       " 'It includes humanitarian assistance, more law enforcement, drug detection at our ports, closing loopholes that enable child smuggling, and plans for a new physical barrier, or wall, to secure the vast areas between our ports of entry.\\xa0In the past, most of the people in this room voted for a wall—but the proper wall never got built. I’ll get it built.',\n",
       " 'This is a smart, strategic, see-through steel barrier—not just a simple concrete wall. It will be deployed in the areas identified by border agents as having the greatest need, and as these agents will tell you, where walls go up, illegal crossings go way down.',\n",
       " 'San Diego used to have the most illegal border crossings in the country.\\xa0In response, and at the request of San Diego residents and political leaders, a strong security wall was put in place.\\xa0This powerful barrier almost completely ended illegal crossings.',\n",
       " 'The border city of El Paso, Texas, used to have extremely high rates of violent crime—one of the highest in the country, and considered one of our Nation’s most dangerous cities.\\xa0Now, with a powerful barrier in place, El Paso is one\\xa0of our safest cities.',\n",
       " 'Simply put, walls work and walls save lives.\\xa0So let’s work together, compromise, and reach a deal that will truly make America safe.',\n",
       " 'As we work to defend our people’s safety, we must also ensure our economic resurgence continues at a rapid pace.',\n",
       " 'No one has benefitted more from our thriving economy than women, who have filled 58 percent of the new jobs created in the last year. All Americans can be proud that we have more women in the workforce than ever before—and exactly one century after the Congress passed the Constitutional amendment giving women the right to vote, we also have more women serving in the Congress than ever before.',\n",
       " 'As part of our commitment to improving opportunity for women everywhere, this Thursday we are launching the first ever Government-wide initiative focused on economic empowerment for women in developing countries.',\n",
       " 'To build on our incredible economic success, one priority is paramount—reversing decades of calamitous trade policies.',\n",
       " 'We are now making it clear to China that after years of targeting our industries\\xa0and stealing our intellectual property, the theft of\\xa0American jobs and wealth has come to an end.',\n",
       " 'Therefore, we recently imposed tariffs on $250 billion of Chinese goods—and now our Treasury is receiving billions of dollars a month from a country that never gave us a\\xa0dime.\\xa0But I\\xa0don’t blame China for taking advantage of us—I\\xa0blame our leaders and representatives for allowing this travesty to happen.\\xa0I have great respect for President Xi, and we are now working on a new trade deal with China.\\xa0But it must include real, structural change to end unfair trade practices, reduce our chronic trade deficit, and protect American jobs.',\n",
       " 'Another historic trade blunder was the catastrophe known as NAFTA.',\n",
       " 'I have met the men and women of Michigan, Ohio, Pennsylvania, Indiana, New Hampshire, and many other states whose dreams were shattered by NAFTA.\\xa0For years, politicians promised them they would negotiate for a better deal. But no one ever tried—until now.',\n",
       " 'Our new U.S.-Mexico-Canada Agreement—or USMCA—will replace NAFTA and deliver for American workers:\\xa0bringing back\\xa0our manufacturing jobs, expanding American agriculture, protecting intellectual property, and ensuring that more cars are proudly stamped with four beautiful words:\\xa0made in the USA.',\n",
       " 'Tonight, I am also asking you to pass the United States Reciprocal Trade Act, so that if another country places an unfair tariff on an American product, we can charge them the exact same tariff on the same product that they sell to us.',\n",
       " 'Both parties should be able to unite for a great rebuilding of America’s crumbling infrastructure.',\n",
       " 'I know that the Congress is eager to pass an infrastructure bill—and I am eager to work with you on legislation to deliver new and important infrastructure investment, including investments in the cutting edge industries of the future.\\xa0This is not an option.\\xa0This is a necessity.',\n",
       " 'The next major priority for me, and for all of us, should be to lower the cost of healthcare and prescription drugs—and to protect patients with pre-existing conditions.',\n",
       " 'Already, as a result of my administration’s efforts, in 2018 drug prices experienced their single largest decline in 46\\xa0years.',\n",
       " 'But we must do more.\\xa0It is unacceptable that Americans pay vastly more than people in other countries for the exact same drugs, often made in the exact same place.\\xa0This is wrong, unfair, and together we can stop it.',\n",
       " 'I am asking the Congress to pass legislation that finally takes on the problem of global freeloading and delivers fairness and price transparency for American patients. We should also require drug companies, insurance companies, and hospitals to disclose real prices to foster competition and bring costs down.',\n",
       " 'No force in history has done more to advance the human condition than American freedom.\\xa0In recent years we have made remarkable progress in the fight against HIV and AIDS.\\xa0Scientific breakthroughs have brought a once-distant dream within reach.\\xa0My budget will ask Democrats and Republicans to make the needed commitment to eliminate the HIV epidemic in the United States within 10 years.\\xa0Together, we will defeat AIDS in\\xa0America.',\n",
       " 'Tonight, I am also asking you to join me in another fight that all Americans can get behind:\\xa0the fight against childhood cancer.',\n",
       " 'Joining Melania in the gallery this evening is a very brave 10-year-old girl, Grace Eline. Every birthday since she was 4, Grace asked her friends to donate to St. Jude Children’s Research Hospital.\\xa0She did not know that one day she might be a\\xa0patient herself.\\xa0Last year, Grace was diagnosed with brain cancer.\\xa0Immediately, she began radiation treatment.\\xa0At the same time, she rallied her community and raised more than $40,000 for the fight against cancer. When Grace completed treatment last fall, her doctors and nurses cheered with tears in their eyes as she hung up a poster that read:\\xa0“Last Day of Chemo.”\\xa0Grace—you are an inspiration to us all.',\n",
       " 'Many childhood cancers have not seen new therapies in decades.\\xa0My budget will ask the Congress for $500 million over the next 10 years to fund this critical life-saving research.',\n",
       " 'To help support working parents, the time has come to pass school choice for America’s children.\\xa0I am also proud to be the first President to include in my budget a plan for nationwide paid family leave—so that every new parent has the chance to bond with their newborn child.',\n",
       " 'There could be no greater contrast to the beautiful image of a mother holding her infant child than the chilling displays our Nation saw in recent days.\\xa0Lawmakers in New York cheered with delight upon the passage of legislation that would allow a\\xa0baby to be ripped from the mother’s womb moments before birth.\\xa0These are living, feeling, beautiful babies who will never get the chance to share their love and dreams with the world.\\xa0And then, we had the case of the Governor of Virginia where he basically stated he would execute a baby after birth.',\n",
       " 'To defend the dignity of every person, I am asking the Congress to pass legislation to prohibit the late-term abortion of children who can feel pain in the mother’s womb.',\n",
       " 'Let us work together to build a culture that cherishes innocent life.\\xa0And let us reaffirm a fundamental truth:\\xa0all children—born and unborn— are made in the holy image of\\xa0God.',\n",
       " 'The final part of my agenda is to protect America’s National Security.',\n",
       " 'Over the last 2 years, we have begun to fully rebuild the\\xa0United States Military—with $700 billion last year and $716 billion this year.\\xa0We are also getting other nations to pay their fair share.\\xa0For years, the United States was being treated very unfairly by NATO—but now we have secured a $100\\xa0billion increase in defense spending from\\xa0NATO allies.',\n",
       " 'As part of our military build-up, the United States is developing a state-of-the-art Missile Defense System.',\n",
       " 'Under my administration, we will never apologize for advancing America’s interests.',\n",
       " 'For example, decades ago the United States entered into a\\xa0treaty with Russia in which we agreed to limit and reduce our missile capabilities.\\xa0While we followed the agreement to the letter, Russia repeatedly violated its terms.\\xa0That is why I\\xa0announced that the United States is officially withdrawing from the Intermediate-Range Nuclear Forces Treaty, or INF Treaty.',\n",
       " 'Perhaps we can negotiate a different agreement, adding China and others, or perhaps we can’t–-in which case, we will outspend and out-innovate all others by far.',\n",
       " 'As part of a bold new diplomacy, we continue our historic push for peace on the Korean Peninsula.\\xa0Our hostages have come home, nuclear testing has stopped, and there has not been a missile launch in 15 months. If I had not been elected President of the United States, we would right now, in my opinion, be in a major war with North Korea with potentially millions of people killed.\\xa0Much work remains to be done, but my relationship with Kim Jong Un is a good one.\\xa0And Chairman Kim and I will meet again on February 27 and 28 in Vietnam.',\n",
       " 'Two weeks ago, the United States officially recognized the legitimate government of Venezuela, and its new interim President, Juan Guaido.',\n",
       " 'We stand with the Venezuelan people in their noble quest for freedom—and we condemn the brutality of the Maduro regime, whose socialist policies have turned that nation from being the wealthiest in South America into a state of abject poverty and despair.',\n",
       " 'Here, in the United States, we are alarmed by new calls to adopt socialism in our country.\\xa0America was founded on liberty and independence–-not government coercion, domination, and control.\\xa0We are born free, and we will stay free.\\xa0Tonight, we\\xa0renew our resolve that America will never be a socialist country.',\n",
       " 'One of the most complex set of challenges we face is in the Middle East.',\n",
       " 'Our approach is based on principled realism—not discredited theories that have failed for decades to yield progress.\\xa0For this reason, my administration recognized the true capital of Israel—and proudly opened the American Embassy in Jerusalem.',\n",
       " 'Our brave troops have now been fighting in the Middle East for almost 19 years.\\xa0In Afghanistan and Iraq, nearly 7,000 American heroes have given their lives.\\xa0More than 52,000 Americans have been badly wounded.\\xa0We have spent more than $7\\xa0trillion in the Middle East.',\n",
       " 'As a candidate for President, I pledged a new approach. Great nations do not fight endless wars.',\n",
       " 'When I took office, ISIS controlled more than 20,000 square miles in Iraq and Syria.\\xa0Today, we have liberated virtually all of that territory from the grip of these bloodthirsty killers.',\n",
       " 'Now, as we work with our allies to destroy the remnants of ISIS, it is time to give our brave warriors in Syria a warm welcome home.',\n",
       " 'I have also accelerated our negotiations to reach a political settlement in Afghanistan.\\xa0Our troops have fought with unmatched valor—and thanks to their bravery, we are now able to pursue a political solution to this long and bloody conflict.',\n",
       " 'In Afghanistan, my administration is holding constructive talks with a number of Afghan groups, including the Taliban.\\xa0As we make progress in these negotiations, we will be able to reduce our troop presence and focus on counter-terrorism.\\xa0We do not know whether we will achieve an agreement—but we do know that after two decades of war, the hour has come to at least try for peace.',\n",
       " 'Above all, friend and foe alike must never doubt this Nation’s power and will to defend our people.\\xa0Eighteen years ago, terrorists attacked the USS Cole—and last month American forces killed one of the leaders of the attack.',\n",
       " 'We are honored to be joined tonight by Tom Wibberley, whose son, Navy Seaman Craig Wibberley, was one of the 17 sailors we tragically lost. Tom: we vow to always remember the heroes of the USS Cole.',\n",
       " 'My administration has acted decisively to confront the world’s leading state sponsor of terror: the radical regime in Iran.',\n",
       " 'To ensure this corrupt dictatorship never acquires nuclear weapons, I withdrew the United States from the disastrous Iran nuclear deal.\\xa0And last fall, we put in place the toughest sanctions ever imposed on a country.',\n",
       " 'We will not avert our eyes from a regime that chants death to America and threatens genocide against the Jewish people.\\xa0We must never ignore the vile poison of anti-Semitism, or those who spread its venomous creed.\\xa0With one voice, we must confront this hatred anywhere and everywhere it occurs.',\n",
       " 'Just months ago, 11 Jewish-Americans were viciously murdered in an anti-semitic attack on the Tree of Life Synagogue in Pittsburgh.\\xa0SWAT Officer Timothy Matson raced into the gunfire and was shot seven times chasing down the killer.\\xa0Timothy has just had his 12th surgery—but he made the trip to\\xa0be here with us tonight.\\xa0Officer Matson: we are forever grateful for your courage in the face of evil.',\n",
       " 'Tonight, we are also joined by Pittsburgh survivor Judah Samet.\\xa0He arrived at the synagogue as the massacre began. But not only did Judah narrowly escape death last fall—more than seven decades ago, he narrowly survived the Nazi concentration camps. Today is Judah’s 81st birthday.\\xa0Judah says he can still remember the exact moment, nearly 75 years ago, after 10 months in a concentration camp, when he and his family were put on a train, and told they were going to another camp.\\xa0Suddenly the train screeched to a halt.\\xa0A soldier appeared.\\xa0Judah’s family braced for the worst.\\xa0Then, his father cried out with joy: \\xa0“It’s the Americans.”',\n",
       " 'A second Holocaust survivor who is here tonight, Joshua Kaufman, was a prisoner at Dachau Concentration Camp. He remembers watching through a hole in the wall of a cattle car as American soldiers rolled in with tanks.\\xa0“To me,” Joshua recalls, “the American soldiers were proof that God exists, and they came down from the sky.”',\n",
       " 'I began this evening by honoring three soldiers who fought on D-Day in the Second World War. One of them was Herman Zeitchik.\\xa0But there is more to Herman’s story. A year after he stormed the beaches of Normandy, Herman was one of those American soldiers who helped liberate Dachau.\\xa0He was one of the Americans who helped rescue Joshua from that hell on\\xa0earth. Almost 75 years later, Herman and Joshua are both together in the gallery tonight—seated side-by-side, here in the home of American freedom.\\xa0Herman and Joshua:\\xa0your presence this evening honors and uplifts our entire Nation.',\n",
       " 'When American soldiers set out beneath the dark skies over the English Channel in the early hours of D-Day, 1944, they were just young men of 18 and 19, hurtling on fragile landing craft toward the most momentous battle in the history of war.',\n",
       " 'They did not know if they would survive the hour. They did not know if they would grow old.\\xa0But they knew that America had to prevail. Their cause was this Nation, and generations yet unborn.',\n",
       " 'Why did they do it? They did it for America—they did it for us.',\n",
       " 'Everything that has come since—our triumph over communism, our giant leaps of science and discovery, our unrivaled progress toward equality and justice—all of it is possible thanks to the blood and tears and courage and vision of the Americans who came before.',\n",
       " 'Think of this Capitol—think of this very chamber, where lawmakers before you voted to end slavery, to build the railroads and the highways, to defeat fascism, to secure civil rights, to face down an evil empire.',\n",
       " 'Here tonight, we have legislators from across this magnificent republic.\\xa0You have come from the rocky shores of Maine and the volcanic peaks of Hawaii; from the snowy woods of Wisconsin and the red deserts of Arizona; from the green farms of Kentucky and the golden beaches of California. Together, we represent the most extraordinary Nation in all of history.',\n",
       " 'What will we do with this moment? How will we be remembered?',\n",
       " 'I ask the men and women of this Congress:\\xa0Look at the opportunities before us!\\xa0Our most thrilling achievements are still ahead.\\xa0Our most exciting journeys still await.\\xa0Our biggest victories are still to come. We have not yet begun to\\xa0dream.',\n",
       " 'We must choose whether we are defined by our differences—or whether we dare to transcend them.',\n",
       " 'We must choose whether we will squander our inheritance—or whether we will proudly declare that we are Americans. We do the incredible.\\xa0We defy the impossible.\\xa0We conquer the unknown.',\n",
       " 'This is the time to re-ignite the American imagination.\\xa0This is the time to search for the tallest summit\\xa0and set our sights on the brightest star. This is the time to rekindle the bonds of love and loyalty and memory that link us together as citizens, as neighbors, as patriots.',\n",
       " 'This is our future—our fate—and our choice to make. I\\xa0am asking you to choose greatness.',\n",
       " 'No matter the trials we face, no matter the challenges to come, we must go forward together.',\n",
       " 'We must keep America first in our hearts.\\xa0We must keep freedom alive in our souls. And we must always keep faith in America’s destiny—that one Nation, under God, must be the hope and the promise and the light and the glory among all the nations of the world!',\n",
       " 'Thank you. God Bless You, God Bless America, and good night!']"
      ]
     },
     "execution_count": 37,
     "metadata": {},
     "output_type": "execute_result"
    }
   ],
   "source": [
    "# Notice that our dictionary is currently in key: comedian, value: list of text format\n",
    "next(iter(data.values()))"
   ]
  },
  {
   "cell_type": "code",
   "execution_count": 38,
   "metadata": {},
   "outputs": [],
   "source": [
    "# We are going to change this to key: comedian, value: string format\n",
    "def combine_text(list_of_text):\n",
    "    '''Takes a list of text and combines them into one large chunk of text.'''\n",
    "    combined_text = ' '.join(list_of_text)\n",
    "    return combined_text"
   ]
  },
  {
   "cell_type": "code",
   "execution_count": 39,
   "metadata": {},
   "outputs": [],
   "source": [
    "# Combine it!\n",
    "data_combined = {key: [combine_text(value)] for (key, value) in data.items()}"
   ]
  },
  {
   "cell_type": "code",
   "execution_count": 41,
   "metadata": {},
   "outputs": [
    {
     "data": {
      "text/html": [
       "<div>\n",
       "<style scoped>\n",
       "    .dataframe tbody tr th:only-of-type {\n",
       "        vertical-align: middle;\n",
       "    }\n",
       "\n",
       "    .dataframe tbody tr th {\n",
       "        vertical-align: top;\n",
       "    }\n",
       "\n",
       "    .dataframe thead th {\n",
       "        text-align: right;\n",
       "    }\n",
       "</style>\n",
       "<table border=\"1\" class=\"dataframe\">\n",
       "  <thead>\n",
       "    <tr style=\"text-align: right;\">\n",
       "      <th></th>\n",
       "      <th>transcript</th>\n",
       "    </tr>\n",
       "  </thead>\n",
       "  <tbody>\n",
       "    <tr>\n",
       "      <th>obama</th>\n",
       "      <td>Mr. Speaker, Mr. Vice President, Members of Congress, my fellow Americans: Tonight marks the eighth year that I’ve come here to report on the Stat...</td>\n",
       "    </tr>\n",
       "    <tr>\n",
       "      <th>trump</th>\n",
       "      <td>Madam Speaker, Mr. Vice President, Members of Congress, the First Lady of the United States, and my fellow Americans: We meet tonight at a moment ...</td>\n",
       "    </tr>\n",
       "  </tbody>\n",
       "</table>\n",
       "</div>"
      ],
      "text/plain": [
       "                                                                                                                                                  transcript\n",
       "obama  Mr. Speaker, Mr. Vice President, Members of Congress, my fellow Americans: Tonight marks the eighth year that I’ve come here to report on the Stat...\n",
       "trump  Madam Speaker, Mr. Vice President, Members of Congress, the First Lady of the United States, and my fellow Americans: We meet tonight at a moment ..."
      ]
     },
     "execution_count": 41,
     "metadata": {},
     "output_type": "execute_result"
    }
   ],
   "source": [
    "# We can either keep it in dictionary format or put it into a pandas dataframe\n",
    "import pandas as pd\n",
    "pd.set_option('max_colwidth',150)\n",
    "\n",
    "data_df = pd.DataFrame.from_dict(data_combined).transpose()\n",
    "data_df.columns = ['transcript']\n",
    "data_df = data_df.sort_index()\n",
    "data_df"
   ]
  },
  {
   "cell_type": "code",
   "execution_count": 42,
   "metadata": {},
   "outputs": [
    {
     "data": {
      "text/plain": [
       "'Madam Speaker, Mr. Vice President, Members of Congress, the\\xa0First Lady of the United States, and my fellow Americans: We meet tonight at a moment of unlimited potential.\\xa0As we begin a new Congress, I stand here ready to work with you to achieve historic breakthroughs for all Americans. Millions of our fellow citizens are watching us now, gathered in this great chamber, hoping that we will govern not as two parties but as one Nation. The agenda I will lay out this evening is not a Republican agenda or a Democrat agenda.\\xa0It is the agenda of the American people. Many of us campaigned on the same core promises:\\xa0to defend American jobs and demand fair trade for American workers; to rebuild and revitalize our Nation’s infrastructure; to reduce the price of healthcare and prescription drugs; to create an immigration system that is safe, lawful, modern, and secure; and to pursue a foreign policy that puts America’s interests first. There is a new opportunity in American politics, if only we have the courage to seize it.\\xa0Victory is not winning for our party.\\xa0Victory is winning for our country. This year, America will recognize two important anniversaries that show us the majesty of America’s mission, and\\xa0the power of American pride. In June, we mark 75 years since the start of what General Dwight D. Eisenhower called the Great Crusade—the Allied liberation of Europe in World War II.\\xa0On D-Day, June 6, 1944, 15,000 young American men jumped from the sky, and 60,000 more stormed in from the sea, to save our civilization from tyranny.\\xa0Here with us tonight are three of those heroes:\\xa0Private First Class Joseph Reilly, Staff Sergeant Irving Locker, and Sergeant Herman Zeitchik.\\xa0Gentlemen, we salute you. In 2019, we also celebrate 50 years since brave young pilots flew a quarter of a million miles through space to plant the American flag on the face of the moon.\\xa0Half a century later, we are joined by one of the Apollo 11 astronauts who planted that flag:\\xa0Buzz Aldrin. This year, American astronauts will go back to space on American rockets. In the 20th century, America saved freedom, transformed science, and redefined the middle class standard of living for the entire world to see.\\xa0Now, we must step boldly and bravely into the next chapter of this great American adventure, and we must create a new standard of living for the 21st century.\\xa0An amazing quality of life for all of our citizens is within our reach. We can make our communities safer, our families stronger, our culture richer, our faith deeper, and our middle class bigger and more prosperous than ever before. But we must reject the politics of revenge, resistance, and\\xa0retribution—and embrace the boundless potential of cooperation, compromise, and the common good. Together, we can break decades of political stalemate.\\xa0We can bridge old divisions, heal old wounds, build new coalitions, forge new solutions, and unlock the extraordinary promise of America’s future.\\xa0The decision is ours to make. We must choose between greatness or gridlock, results or resistance, vision or vengeance, incredible progress or pointless destruction. Tonight, I ask you to choose greatness. Over the last 2 years, my administration has moved with urgency and historic speed to confront problems neglected by leaders of both parties over many decades. In just over 2 years since the election, we have launched an unprecedented economic boom—a boom that has rarely been seen before.\\xa0We have created 5.3 million new jobs and importantly added 600,000 new manufacturing jobs—something which almost everyone said was impossible to do, but the fact is, we are just getting started. Wages are rising at the fastest pace in decades, and growing for blue collar workers, who I promised to fight for, faster than anyone else.\\xa0Nearly 5 million Americans have been lifted off food stamps.\\xa0The United States economy is growing almost twice as fast today as when I took office, and we are considered far and away the hottest economy anywhere in the world.\\xa0Unemployment has reached the lowest rate in half a century. African American, Hispanic American, and Asian American unemployment have all reached their lowest levels ever recorded. Unemployment for Americans with disabilities has also reached an all-time low.\\xa0More people are working now than at any time in our history–-157 million. We passed a massive tax cut for working families and doubled the child tax credit. We virtually ended the estate, or death, tax on small businesses, ranches, and family farms. We eliminated the very unpopular Obamacare individual mandate penalty—and to give critically ill patients access to life-saving cures, we passed right to try. My administration has cut more regulations in a short time than any other administration during its entire tenure.\\xa0Companies are coming back to our country in large numbers thanks to historic reductions in taxes and regulations. We have unleashed a revolution in American energy—the United States is now the number one producer of oil and natural gas in the world.\\xa0And now, for the first time in 65 years, we are a net exporter of energy. After 24 months of rapid progress, our economy is the envy of the world, our military is the most powerful on earth, and America is winning each and every day.\\xa0Members of Congress:\\xa0the State of our Union is strong.\\xa0Our country is vibrant and our economy is thriving like never before. On Friday, it was announced that we added another 304,000 jobs last month alone—almost double what was expected.\\xa0An economic miracle is taking place in the United States—and the\\xa0only thing that can stop it are foolish wars, politics, or ridiculous partisan investigations. If there is going to be peace and legislation, there cannot be war and investigation. It just doesn’t work that way! We must be united at home to defeat our adversaries abroad. This new era of cooperation can start with finally confirming the more than 300 highly qualified nominees who are still stuck in the Senate, some after years of waiting.\\xa0The Senate has failed to act on these nominations, which is unfair to the nominees and to our country. Now is the time for bipartisan action.\\xa0Believe it or not, we have already proven that it is possible. In the last Congress, both parties came together to pass unprecedented legislation to confront the opioid crisis, a sweeping new Farm Bill, historic VA reforms, and after four decades of rejection, we passed VA Accountability so we can finally terminate those who mistreat our wonderful veterans. And just weeks ago, both parties united for groundbreaking criminal justice reform.\\xa0Last year, I heard through friends the story of Alice Johnson.\\xa0I was deeply moved.\\xa0In 1997, Alice was sentenced to life in prison as a first-time non-violent drug offender.\\xa0Over the next two decades, she became a prison minister, inspiring others to choose a better path.\\xa0She had a\\xa0big impact on that prison population—and far beyond. Alice’s story underscores the disparities and unfairness that can exist in criminal sentencing—and the need to remedy this injustice.\\xa0She served almost 22 years and had expected to be in prison for the rest of her life. In June, I commuted Alice’s sentence, and she is here with us tonight.\\xa0Alice, thank you for reminding us that we always have the power to shape our own destiny. When I saw Alice’s beautiful family greet her at the prison gates, hugging and kissing and crying and laughing, I knew I did the right thing. Inspired by stories like Alice’s, my administration worked closely with members of both parties to sign the First Step Act into law.\\xa0This legislation reformed sentencing laws that have wrongly and disproportionately harmed the African American community.\\xa0The First Step Act gives non-violent offenders the chance to re-enter society as productive, law-abiding citizens. Now, States across the country are following our lead. America is a Nation that believes in redemption. We are also joined tonight by Matthew Charles from Tennessee.\\xa0In 1996, at age 30, Matthew was sentenced to 35 years for selling drugs and related offenses. Over the next two decades, he completed more than 30 Bible studies, became a law clerk, and mentored fellow inmates. Now, Matthew is the very first person to be released from prison under the First Step Act.\\xa0Matthew, on behalf of all Americans: welcome home. As we have seen, when we are united, we can make astonishing strides for our country.\\xa0Now, Republicans and Democrats must join forces again to confront an urgent national crisis. The Congress has 10 days left to pass a bill that will fund our government, protect our homeland, and secure our southern border. Now is the time for the Congress to show the world that America is committed to ending illegal immigration and putting the ruthless coyotes, cartels, drug dealers, and human traffickers out of business. As we speak, large, organized caravans are on the march to the United States.\\xa0We have just heard that Mexican cities, in order to remove the illegal immigrants from their communities, are getting trucks and buses to bring them up to our country in areas where there is little border protection.\\xa0I have ordered another 3,750 troops to our southern border to prepare for the tremendous onslaught. This is a moral issue.\\xa0The lawless state of our southern border is a threat to the safety, security, and financial well‑being of all Americans.\\xa0We have a moral duty to create an\\xa0immigration system that protects the lives and jobs of our citizens.\\xa0This includes our obligation to the millions of immigrants living here today, who followed the rules and respected our laws. Legal immigrants enrich our Nation and strengthen our society in countless ways.\\xa0I want people to come into our country, but they have to come in legally. Tonight, I am asking you to defend our very dangerous southern border out of love and devotion to our fellow citizens and to our country. No issue better illustrates the divide between America’s working class and America’s political class than illegal immigration.\\xa0Wealthy politicians and donors push for open borders while living their lives behind walls and gates and guards. Meanwhile, working class Americans are left to pay the price for mass illegal migration—reduced jobs, lower wages, overburdened schools and hospitals, increased crime, and a\\xa0depleted social safety net. Tolerance for illegal immigration is not compassionate—it is cruel.\\xa0One in three women is sexually assaulted on the long journey north. Smugglers use migrant children as human pawns to exploit our laws and gain access to our country. Human traffickers and sex traffickers take advantage of the wide open areas between our ports of entry to\\xa0smuggle thousands of young girls and women into the United\\xa0States and to sell them into prostitution and modern-day slavery. Tens of thousands of innocent Americans are killed by lethal drugs that cross our border and flood into our cities—including meth, heroin, cocaine, and fentanyl. The savage gang, MS-13, now operates in 20 different American states, and they almost all come through our southern border.\\xa0Just yesterday, an MS-13 gang member was taken into custody for a fatal shooting on a subway platform in New York City.\\xa0We are removing these gang members by the thousands, but until we secure our border they’re going to keep streaming back\\xa0in. Year after year, countless Americans are murdered by criminal illegal aliens. I’ve gotten to know many wonderful Angel Moms, Dads, and families—no one should ever have to suffer the horrible heartache they have endured. Here tonight is Debra Bissell.\\xa0Just three weeks ago, Debra’s parents, Gerald and Sharon, were burglarized and shot to\\xa0death in their Reno, Nevada, home by an illegal alien. They\\xa0were in their eighties and are survived by four children, 11\\xa0grandchildren, and 20 great-grandchildren. Also here tonight are Gerald and Sharon’s granddaughter, Heather, and great‑granddaughter, Madison. To Debra, Heather, Madison, please stand: few can understand your pain.\\xa0But I will never forget, and I will fight for the memory of Gerald and Sharon, that it should never happen again. Not one more American life should be lost because our Nation failed to control its very dangerous border. In the last 2 years, our brave ICE officers made 266,000 arrests of criminal aliens, including those charged or convicted of nearly 100,000 assaults, 30,000 sex crimes, and 4,000 killings. We are joined tonight by one of those law enforcement heroes:\\xa0ICE Special Agent Elvin Hernandez.\\xa0When Elvin was a boy, he and his family legally immigrated to the United States from the Dominican Republic.\\xa0At the age of eight, Elvin told his dad he wanted to become a Special Agent.\\xa0Today, he leads investigations into the scourge of international sex trafficking.\\xa0Elvin says: \\xa0“If I can make sure these young girls get their justice, I’ve done my job.”\\xa0Thanks to his work and that of his colleagues, more than 300 women and girls have been rescued from horror, and more than 1,500 sadistic traffickers have been put behind bars in the last year. Special Agent Hernandez, please stand:\\xa0We will always support the brave men and women of Law Enforcement—and I pledge to you tonight that we will never abolish our heroes from ICE. My administration has sent to the Congress a commonsense proposal to end the crisis on our southern border. It includes humanitarian assistance, more law enforcement, drug detection at our ports, closing loopholes that enable child smuggling, and plans for a new physical barrier, or wall, to secure the vast areas between our ports of entry.\\xa0In the past, most of the people in this room voted for a wall—but the proper wall never got built. I’ll get it built. This is a smart, strategic, see-through steel barrier—not just a simple concrete wall. It will be deployed in the areas identified by border agents as having the greatest need, and as these agents will tell you, where walls go up, illegal crossings go way down. San Diego used to have the most illegal border crossings in the country.\\xa0In response, and at the request of San Diego residents and political leaders, a strong security wall was put in place.\\xa0This powerful barrier almost completely ended illegal crossings. The border city of El Paso, Texas, used to have extremely high rates of violent crime—one of the highest in the country, and considered one of our Nation’s most dangerous cities.\\xa0Now, with a powerful barrier in place, El Paso is one\\xa0of our safest cities. Simply put, walls work and walls save lives.\\xa0So let’s work together, compromise, and reach a deal that will truly make America safe. As we work to defend our people’s safety, we must also ensure our economic resurgence continues at a rapid pace. No one has benefitted more from our thriving economy than women, who have filled 58 percent of the new jobs created in the last year. All Americans can be proud that we have more women in the workforce than ever before—and exactly one century after the Congress passed the Constitutional amendment giving women the right to vote, we also have more women serving in the Congress than ever before. As part of our commitment to improving opportunity for women everywhere, this Thursday we are launching the first ever Government-wide initiative focused on economic empowerment for women in developing countries. To build on our incredible economic success, one priority is paramount—reversing decades of calamitous trade policies. We are now making it clear to China that after years of targeting our industries\\xa0and stealing our intellectual property, the theft of\\xa0American jobs and wealth has come to an end. Therefore, we recently imposed tariffs on $250 billion of Chinese goods—and now our Treasury is receiving billions of dollars a month from a country that never gave us a\\xa0dime.\\xa0But I\\xa0don’t blame China for taking advantage of us—I\\xa0blame our leaders and representatives for allowing this travesty to happen.\\xa0I have great respect for President Xi, and we are now working on a new trade deal with China.\\xa0But it must include real, structural change to end unfair trade practices, reduce our chronic trade deficit, and protect American jobs. Another historic trade blunder was the catastrophe known as NAFTA. I have met the men and women of Michigan, Ohio, Pennsylvania, Indiana, New Hampshire, and many other states whose dreams were shattered by NAFTA.\\xa0For years, politicians promised them they would negotiate for a better deal. But no one ever tried—until now. Our new U.S.-Mexico-Canada Agreement—or USMCA—will replace NAFTA and deliver for American workers:\\xa0bringing back\\xa0our manufacturing jobs, expanding American agriculture, protecting intellectual property, and ensuring that more cars are proudly stamped with four beautiful words:\\xa0made in the USA. Tonight, I am also asking you to pass the United States Reciprocal Trade Act, so that if another country places an unfair tariff on an American product, we can charge them the exact same tariff on the same product that they sell to us. Both parties should be able to unite for a great rebuilding of America’s crumbling infrastructure. I know that the Congress is eager to pass an infrastructure bill—and I am eager to work with you on legislation to deliver new and important infrastructure investment, including investments in the cutting edge industries of the future.\\xa0This is not an option.\\xa0This is a necessity. The next major priority for me, and for all of us, should be to lower the cost of healthcare and prescription drugs—and to protect patients with pre-existing conditions. Already, as a result of my administration’s efforts, in 2018 drug prices experienced their single largest decline in 46\\xa0years. But we must do more.\\xa0It is unacceptable that Americans pay vastly more than people in other countries for the exact same drugs, often made in the exact same place.\\xa0This is wrong, unfair, and together we can stop it. I am asking the Congress to pass legislation that finally takes on the problem of global freeloading and delivers fairness and price transparency for American patients. We should also require drug companies, insurance companies, and hospitals to disclose real prices to foster competition and bring costs down. No force in history has done more to advance the human condition than American freedom.\\xa0In recent years we have made remarkable progress in the fight against HIV and AIDS.\\xa0Scientific breakthroughs have brought a once-distant dream within reach.\\xa0My budget will ask Democrats and Republicans to make the needed commitment to eliminate the HIV epidemic in the United States within 10 years.\\xa0Together, we will defeat AIDS in\\xa0America. Tonight, I am also asking you to join me in another fight that all Americans can get behind:\\xa0the fight against childhood cancer. Joining Melania in the gallery this evening is a very brave 10-year-old girl, Grace Eline. Every birthday since she was 4, Grace asked her friends to donate to St. Jude Children’s Research Hospital.\\xa0She did not know that one day she might be a\\xa0patient herself.\\xa0Last year, Grace was diagnosed with brain cancer.\\xa0Immediately, she began radiation treatment.\\xa0At the same time, she rallied her community and raised more than $40,000 for the fight against cancer. When Grace completed treatment last fall, her doctors and nurses cheered with tears in their eyes as she hung up a poster that read:\\xa0“Last Day of Chemo.”\\xa0Grace—you are an inspiration to us all. Many childhood cancers have not seen new therapies in decades.\\xa0My budget will ask the Congress for $500 million over the next 10 years to fund this critical life-saving research. To help support working parents, the time has come to pass school choice for America’s children.\\xa0I am also proud to be the first President to include in my budget a plan for nationwide paid family leave—so that every new parent has the chance to bond with their newborn child. There could be no greater contrast to the beautiful image of a mother holding her infant child than the chilling displays our Nation saw in recent days.\\xa0Lawmakers in New York cheered with delight upon the passage of legislation that would allow a\\xa0baby to be ripped from the mother’s womb moments before birth.\\xa0These are living, feeling, beautiful babies who will never get the chance to share their love and dreams with the world.\\xa0And then, we had the case of the Governor of Virginia where he basically stated he would execute a baby after birth. To defend the dignity of every person, I am asking the Congress to pass legislation to prohibit the late-term abortion of children who can feel pain in the mother’s womb. Let us work together to build a culture that cherishes innocent life.\\xa0And let us reaffirm a fundamental truth:\\xa0all children—born and unborn— are made in the holy image of\\xa0God. The final part of my agenda is to protect America’s National Security. Over the last 2 years, we have begun to fully rebuild the\\xa0United States Military—with $700 billion last year and $716 billion this year.\\xa0We are also getting other nations to pay their fair share.\\xa0For years, the United States was being treated very unfairly by NATO—but now we have secured a $100\\xa0billion increase in defense spending from\\xa0NATO allies. As part of our military build-up, the United States is developing a state-of-the-art Missile Defense System. Under my administration, we will never apologize for advancing America’s interests. For example, decades ago the United States entered into a\\xa0treaty with Russia in which we agreed to limit and reduce our missile capabilities.\\xa0While we followed the agreement to the letter, Russia repeatedly violated its terms.\\xa0That is why I\\xa0announced that the United States is officially withdrawing from the Intermediate-Range Nuclear Forces Treaty, or INF Treaty. Perhaps we can negotiate a different agreement, adding China and others, or perhaps we can’t–-in which case, we will outspend and out-innovate all others by far. As part of a bold new diplomacy, we continue our historic push for peace on the Korean Peninsula.\\xa0Our hostages have come home, nuclear testing has stopped, and there has not been a missile launch in 15 months. If I had not been elected President of the United States, we would right now, in my opinion, be in a major war with North Korea with potentially millions of people killed.\\xa0Much work remains to be done, but my relationship with Kim Jong Un is a good one.\\xa0And Chairman Kim and I will meet again on February 27 and 28 in Vietnam. Two weeks ago, the United States officially recognized the legitimate government of Venezuela, and its new interim President, Juan Guaido. We stand with the Venezuelan people in their noble quest for freedom—and we condemn the brutality of the Maduro regime, whose socialist policies have turned that nation from being the wealthiest in South America into a state of abject poverty and despair. Here, in the United States, we are alarmed by new calls to adopt socialism in our country.\\xa0America was founded on liberty and independence–-not government coercion, domination, and control.\\xa0We are born free, and we will stay free.\\xa0Tonight, we\\xa0renew our resolve that America will never be a socialist country. One of the most complex set of challenges we face is in the Middle East. Our approach is based on principled realism—not discredited theories that have failed for decades to yield progress.\\xa0For this reason, my administration recognized the true capital of Israel—and proudly opened the American Embassy in Jerusalem. Our brave troops have now been fighting in the Middle East for almost 19 years.\\xa0In Afghanistan and Iraq, nearly 7,000 American heroes have given their lives.\\xa0More than 52,000 Americans have been badly wounded.\\xa0We have spent more than $7\\xa0trillion in the Middle East. As a candidate for President, I pledged a new approach. Great nations do not fight endless wars. When I took office, ISIS controlled more than 20,000 square miles in Iraq and Syria.\\xa0Today, we have liberated virtually all of that territory from the grip of these bloodthirsty killers. Now, as we work with our allies to destroy the remnants of ISIS, it is time to give our brave warriors in Syria a warm welcome home. I have also accelerated our negotiations to reach a political settlement in Afghanistan.\\xa0Our troops have fought with unmatched valor—and thanks to their bravery, we are now able to pursue a political solution to this long and bloody conflict. In Afghanistan, my administration is holding constructive talks with a number of Afghan groups, including the Taliban.\\xa0As we make progress in these negotiations, we will be able to reduce our troop presence and focus on counter-terrorism.\\xa0We do not know whether we will achieve an agreement—but we do know that after two decades of war, the hour has come to at least try for peace. Above all, friend and foe alike must never doubt this Nation’s power and will to defend our people.\\xa0Eighteen years ago, terrorists attacked the USS Cole—and last month American forces killed one of the leaders of the attack. We are honored to be joined tonight by Tom Wibberley, whose son, Navy Seaman Craig Wibberley, was one of the 17 sailors we tragically lost. Tom: we vow to always remember the heroes of the USS Cole. My administration has acted decisively to confront the world’s leading state sponsor of terror: the radical regime in Iran. To ensure this corrupt dictatorship never acquires nuclear weapons, I withdrew the United States from the disastrous Iran nuclear deal.\\xa0And last fall, we put in place the toughest sanctions ever imposed on a country. We will not avert our eyes from a regime that chants death to America and threatens genocide against the Jewish people.\\xa0We must never ignore the vile poison of anti-Semitism, or those who spread its venomous creed.\\xa0With one voice, we must confront this hatred anywhere and everywhere it occurs. Just months ago, 11 Jewish-Americans were viciously murdered in an anti-semitic attack on the Tree of Life Synagogue in Pittsburgh.\\xa0SWAT Officer Timothy Matson raced into the gunfire and was shot seven times chasing down the killer.\\xa0Timothy has just had his 12th surgery—but he made the trip to\\xa0be here with us tonight.\\xa0Officer Matson: we are forever grateful for your courage in the face of evil. Tonight, we are also joined by Pittsburgh survivor Judah Samet.\\xa0He arrived at the synagogue as the massacre began. But not only did Judah narrowly escape death last fall—more than seven decades ago, he narrowly survived the Nazi concentration camps. Today is Judah’s 81st birthday.\\xa0Judah says he can still remember the exact moment, nearly 75 years ago, after 10 months in a concentration camp, when he and his family were put on a train, and told they were going to another camp.\\xa0Suddenly the train screeched to a halt.\\xa0A soldier appeared.\\xa0Judah’s family braced for the worst.\\xa0Then, his father cried out with joy: \\xa0“It’s the Americans.” A second Holocaust survivor who is here tonight, Joshua Kaufman, was a prisoner at Dachau Concentration Camp. He remembers watching through a hole in the wall of a cattle car as American soldiers rolled in with tanks.\\xa0“To me,” Joshua recalls, “the American soldiers were proof that God exists, and they came down from the sky.” I began this evening by honoring three soldiers who fought on D-Day in the Second World War. One of them was Herman Zeitchik.\\xa0But there is more to Herman’s story. A year after he stormed the beaches of Normandy, Herman was one of those American soldiers who helped liberate Dachau.\\xa0He was one of the Americans who helped rescue Joshua from that hell on\\xa0earth. Almost 75 years later, Herman and Joshua are both together in the gallery tonight—seated side-by-side, here in the home of American freedom.\\xa0Herman and Joshua:\\xa0your presence this evening honors and uplifts our entire Nation. When American soldiers set out beneath the dark skies over the English Channel in the early hours of D-Day, 1944, they were just young men of 18 and 19, hurtling on fragile landing craft toward the most momentous battle in the history of war. They did not know if they would survive the hour. They did not know if they would grow old.\\xa0But they knew that America had to prevail. Their cause was this Nation, and generations yet unborn. Why did they do it? They did it for America—they did it for us. Everything that has come since—our triumph over communism, our giant leaps of science and discovery, our unrivaled progress toward equality and justice—all of it is possible thanks to the blood and tears and courage and vision of the Americans who came before. Think of this Capitol—think of this very chamber, where lawmakers before you voted to end slavery, to build the railroads and the highways, to defeat fascism, to secure civil rights, to face down an evil empire. Here tonight, we have legislators from across this magnificent republic.\\xa0You have come from the rocky shores of Maine and the volcanic peaks of Hawaii; from the snowy woods of Wisconsin and the red deserts of Arizona; from the green farms of Kentucky and the golden beaches of California. Together, we represent the most extraordinary Nation in all of history. What will we do with this moment? How will we be remembered? I ask the men and women of this Congress:\\xa0Look at the opportunities before us!\\xa0Our most thrilling achievements are still ahead.\\xa0Our most exciting journeys still await.\\xa0Our biggest victories are still to come. We have not yet begun to\\xa0dream. We must choose whether we are defined by our differences—or whether we dare to transcend them. We must choose whether we will squander our inheritance—or whether we will proudly declare that we are Americans. We do the incredible.\\xa0We defy the impossible.\\xa0We conquer the unknown. This is the time to re-ignite the American imagination.\\xa0This is the time to search for the tallest summit\\xa0and set our sights on the brightest star. This is the time to rekindle the bonds of love and loyalty and memory that link us together as citizens, as neighbors, as patriots. This is our future—our fate—and our choice to make. I\\xa0am asking you to choose greatness. No matter the trials we face, no matter the challenges to come, we must go forward together. We must keep America first in our hearts.\\xa0We must keep freedom alive in our souls. And we must always keep faith in America’s destiny—that one Nation, under God, must be the hope and the promise and the light and the glory among all the nations of the world! Thank you. God Bless You, God Bless America, and good night!'"
      ]
     },
     "execution_count": 42,
     "metadata": {},
     "output_type": "execute_result"
    }
   ],
   "source": [
    "# Let's take a look at the transcript for Ali Wong\n",
    "data_df.transcript.loc['trump']"
   ]
  }
 ],
 "metadata": {
  "kernelspec": {
   "display_name": "Python 3",
   "language": "python",
   "name": "python3"
  },
  "language_info": {
   "codemirror_mode": {
    "name": "ipython",
    "version": 3
   },
   "file_extension": ".py",
   "mimetype": "text/x-python",
   "name": "python",
   "nbconvert_exporter": "python",
   "pygments_lexer": "ipython3",
   "version": "3.7.1"
  }
 },
 "nbformat": 4,
 "nbformat_minor": 2
}
