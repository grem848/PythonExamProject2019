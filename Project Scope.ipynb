{
 "cells": [
  {
   "cell_type": "markdown",
   "metadata": {},
   "source": [
    "# Project Scope - Good Awareness\n",
    "\n",
    "\n",
    "#### Based on State of The Union speeches from the ten latest presidents, can we see if Trump stands out in any way?\n",
    "#### Also, can we by analyzing the data derive other interesting insights?\n",
    "\n",
    "<hr>\n",
    "\n",
    "<br>\n",
    "\n",
    "\n",
    "## 1. Data Cleaning\n",
    "\n",
    "#### Webscraping, data cleaning, saving to pickle\n",
    "\n",
    "<br>\n",
    "<br>\n",
    "\n",
    "## 2. Data Analysis\n",
    "\n",
    "#### Read pickles, analyze speeches, word clouds\n",
    "\n",
    "\n",
    "<br>\n",
    "<br>\n",
    "\n",
    "\n",
    "## 3. Sentiment Analysis\n",
    "\n",
    "#### Analyze sentiment values, (positivity, negativty) and (facts, opinions)\n",
    "\n",
    "<br>\n",
    "<br>\n",
    "\n",
    "## 4. Topic Modeling\n",
    "\n",
    "#### Analyze transcripts for topics\n"
   ]
  }
 ],
 "metadata": {
  "kernelspec": {
   "display_name": "Python 3",
   "language": "python",
   "name": "python3"
  },
  "language_info": {
   "codemirror_mode": {
    "name": "ipython",
    "version": 3
   },
   "file_extension": ".py",
   "mimetype": "text/x-python",
   "name": "python",
   "nbconvert_exporter": "python",
   "pygments_lexer": "ipython3",
   "version": "3.7.1"
  }
 },
 "nbformat": 4,
 "nbformat_minor": 2
}
